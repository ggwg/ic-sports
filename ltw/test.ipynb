{
 "cells": [
  {
   "cell_type": "code",
   "execution_count": 1,
   "metadata": {},
   "outputs": [],
   "source": [
    "import cv2\n",
    "import numpy as np"
   ]
  },
  {
   "cell_type": "code",
   "execution_count": 2,
   "metadata": {},
   "outputs": [
    {
     "name": "stdout",
     "output_type": "stream",
     "text": [
      "[[[139 172 198]\n",
      "  [140 173 199]\n",
      "  [140 173 199]\n",
      "  ...\n",
      "  [190 196 203]\n",
      "  [188 194 201]\n",
      "  [187 193 200]]\n",
      "\n",
      " [[141 174 200]\n",
      "  [141 174 200]\n",
      "  [141 174 200]\n",
      "  ...\n",
      "  [191 197 204]\n",
      "  [189 195 202]\n",
      "  [187 193 200]]\n",
      "\n",
      " [[143 176 202]\n",
      "  [142 175 201]\n",
      "  [142 175 201]\n",
      "  ...\n",
      "  [191 197 204]\n",
      "  [189 195 202]\n",
      "  [188 194 201]]\n",
      "\n",
      " ...\n",
      "\n",
      " [[ 22  34  40]\n",
      "  [ 23  35  41]\n",
      "  [ 25  37  43]\n",
      "  ...\n",
      "  [ 63  62  64]\n",
      "  [ 62  61  63]\n",
      "  [ 62  61  63]]\n",
      "\n",
      " [[ 23  35  41]\n",
      "  [ 20  32  38]\n",
      "  [ 21  33  39]\n",
      "  ...\n",
      "  [ 63  62  64]\n",
      "  [ 62  61  63]\n",
      "  [ 64  63  65]]\n",
      "\n",
      " [[ 26  38  44]\n",
      "  [ 20  32  38]\n",
      "  [ 19  31  37]\n",
      "  ...\n",
      "  [ 62  61  63]\n",
      "  [ 62  61  63]\n",
      "  [ 66  65  67]]]\n",
      "(960, 1440, 3)\n"
     ]
    },
    {
     "data": {
      "text/plain": [
       "-1"
      ]
     },
     "execution_count": 2,
     "metadata": {},
     "output_type": "execute_result"
    }
   ],
   "source": [
    "img = cv2.imread(\"background_place_holder.jpg\")\n",
    "print(img)\n",
    "print(img.shape)\n",
    "img = cv2.resize(img, (500, 500))\n",
    "cv2.imshow(\"pic\", img)\n",
    "cv2.waitKey(100)"
   ]
  },
  {
   "cell_type": "code",
   "execution_count": null,
   "metadata": {},
   "outputs": [],
   "source": []
  }
 ],
 "metadata": {
  "kernelspec": {
   "display_name": "np_veclib",
   "language": "python",
   "name": "python3"
  },
  "language_info": {
   "codemirror_mode": {
    "name": "ipython",
    "version": 3
   },
   "file_extension": ".py",
   "mimetype": "text/x-python",
   "name": "python",
   "nbconvert_exporter": "python",
   "pygments_lexer": "ipython3",
   "version": "3.9.15"
  },
  "orig_nbformat": 4,
  "vscode": {
   "interpreter": {
    "hash": "bbd63d500945e2aed076e80f06c9e904402f35087bb7b0146b45b6a4869c1393"
   }
  }
 },
 "nbformat": 4,
 "nbformat_minor": 2
}
